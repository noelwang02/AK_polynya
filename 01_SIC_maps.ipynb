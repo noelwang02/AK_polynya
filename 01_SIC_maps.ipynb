{
 "cells": [
  {
   "cell_type": "markdown",
   "id": "226b3e75",
   "metadata": {},
   "source": [
    "# 01. Map polynya events with University Bremen ASI Sea Ice Concentrations\n",
    "\n",
    "Data source:\n",
    "https://seaice.uni-bremen.de/sea-ice-concentration/amsre-amsr2/"
   ]
  },
  {
   "cell_type": "markdown",
   "id": "e03e3b60",
   "metadata": {},
   "source": [
    "## Import packages"
   ]
  },
  {
   "cell_type": "code",
   "execution_count": 1,
   "id": "e9baa51b",
   "metadata": {},
   "outputs": [
    {
     "ename": "ModuleNotFoundError",
     "evalue": "No module named 'LIB_ASI_SIC_UniB'",
     "output_type": "error",
     "traceback": [
      "\u001b[0;31m---------------------------------------------------------------------------\u001b[0m",
      "\u001b[0;31mModuleNotFoundError\u001b[0m                       Traceback (most recent call last)",
      "Cell \u001b[0;32mIn[1], line 33\u001b[0m\n\u001b[1;32m     31\u001b[0m \u001b[38;5;66;03m# path to own functions\u001b[39;00m\n\u001b[1;32m     32\u001b[0m sys\u001b[38;5;241m.\u001b[39mpath\u001b[38;5;241m.\u001b[39mappend(\u001b[38;5;124m'\u001b[39m\u001b[38;5;124m../Libraries_functions/\u001b[39m\u001b[38;5;124m'\u001b[39m)\n\u001b[0;32m---> 33\u001b[0m \u001b[38;5;28;01mfrom\u001b[39;00m \u001b[38;5;21;01mLIB_ASI_SIC_UniB\u001b[39;00m \u001b[38;5;28;01mimport\u001b[39;00m grab_ASI_SIC, grab_projinfo_SIC\n\u001b[1;32m     34\u001b[0m \u001b[38;5;28;01mfrom\u001b[39;00m \u001b[38;5;21;01mLIB_geo_func\u001b[39;00m \u001b[38;5;28;01mimport\u001b[39;00m \u001b[38;5;241m*\u001b[39m\n\u001b[1;32m     35\u001b[0m \u001b[38;5;28;01mfrom\u001b[39;00m \u001b[38;5;21;01mLIB_geo_plot\u001b[39;00m \u001b[38;5;28;01mimport\u001b[39;00m \u001b[38;5;241m*\u001b[39m\n",
      "\u001b[0;31mModuleNotFoundError\u001b[0m: No module named 'LIB_ASI_SIC_UniB'"
     ]
    }
   ],
   "source": [
    "# general\n",
    "import numpy as np, numpy.ma as ma\n",
    "import xarray as xr\n",
    "import pandas as pd\n",
    "\n",
    "# time\n",
    "from datetime import datetime, timedelta\n",
    "\n",
    "# local system \n",
    "import sys  \n",
    "import glob\n",
    "import os\n",
    "\n",
    "# plotting\n",
    "import matplotlib as mpl\n",
    "from matplotlib import pyplot as plt\n",
    "import matplotlib.colors\n",
    "import cmocean\n",
    "\n",
    "# geo plotting\n",
    "import cartopy\n",
    "import cartopy.crs as ccrs\n",
    "import cartopy.feature as cfeat\n",
    "\n",
    "# for use in suppressing repeated warnings when mapping w/ shapely\n",
    "import shapely\n",
    "import warnings\n",
    "from shapely.errors import ShapelyDeprecationWarning\n",
    "warnings.filterwarnings(\"ignore\", category=ShapelyDeprecationWarning) \n",
    "\n",
    "# path to own functions\n",
    "sys.path.append('../Libraries_functions/')\n",
    "from LIB_ASI_SIC_UniB import grab_ASI_SIC, grab_projinfo_SIC\n",
    "from LIB_geo_func import *\n",
    "from LIB_geo_plot import *\n",
    "\n",
    "%load_ext autoreload\n",
    "%autoreload 2\n",
    "# potentially uninstall pyhdf?"
   ]
  },
  {
   "cell_type": "markdown",
   "id": "1b76ea7b-a95f-48bf-b8e8-a2d0f3d384f4",
   "metadata": {},
   "source": [
    "## Make map"
   ]
  },
  {
   "cell_type": "code",
   "execution_count": 2,
   "id": "0ab1801c",
   "metadata": {},
   "outputs": [
    {
     "ename": "NameError",
     "evalue": "name 'grab_ASI_SIC' is not defined",
     "output_type": "error",
     "traceback": [
      "\u001b[0;31m---------------------------------------------------------------------------\u001b[0m",
      "\u001b[0;31mNameError\u001b[0m                                 Traceback (most recent call last)",
      "Cell \u001b[0;32mIn[2], line 7\u001b[0m\n\u001b[1;32m      3\u001b[0m date \u001b[38;5;241m=\u001b[39m datetime(\u001b[38;5;241m2024\u001b[39m, \u001b[38;5;241m2\u001b[39m, \u001b[38;5;241m15\u001b[39m)\n\u001b[1;32m      4\u001b[0m \u001b[38;5;66;03m#============================\u001b[39;00m\n\u001b[1;32m      5\u001b[0m \n\u001b[1;32m      6\u001b[0m \u001b[38;5;66;03m# read daily sic data from computer files into dictionary\u001b[39;00m\n\u001b[0;32m----> 7\u001b[0m data \u001b[38;5;241m=\u001b[39m grab_ASI_SIC(date\u001b[38;5;241m=\u001b[39mdate, \n\u001b[1;32m      8\u001b[0m                    main_path\u001b[38;5;241m=\u001b[39m\u001b[38;5;124m'\u001b[39m\u001b[38;5;124m/Volumes/Seagate2/asi-nc/files/\u001b[39m\u001b[38;5;124m'\u001b[39m, \n\u001b[1;32m      9\u001b[0m                    coord_file\u001b[38;5;241m=\u001b[39m\u001b[38;5;124m'\u001b[39m\u001b[38;5;124mLongitudeLatitudeGrid-n6250-Arctic.hdf\u001b[39m\u001b[38;5;124m'\u001b[39m, \n\u001b[1;32m     10\u001b[0m                    hemisphere\u001b[38;5;241m=\u001b[39m\u001b[38;5;124m'\u001b[39m\u001b[38;5;124mn\u001b[39m\u001b[38;5;124m'\u001b[39m, resolution\u001b[38;5;241m=\u001b[39m\u001b[38;5;124m'\u001b[39m\u001b[38;5;124m6250\u001b[39m\u001b[38;5;124m'\u001b[39m, version\u001b[38;5;241m=\u001b[39m\u001b[38;5;124m'\u001b[39m\u001b[38;5;124mv5.4\u001b[39m\u001b[38;5;124m'\u001b[39m, \n\u001b[1;32m     11\u001b[0m                    return_vars\u001b[38;5;241m=\u001b[39m[\u001b[38;5;124m'\u001b[39m\u001b[38;5;124mxx\u001b[39m\u001b[38;5;124m'\u001b[39m, \u001b[38;5;124m'\u001b[39m\u001b[38;5;124myy\u001b[39m\u001b[38;5;124m'\u001b[39m, \u001b[38;5;124m'\u001b[39m\u001b[38;5;124mlon\u001b[39m\u001b[38;5;124m'\u001b[39m, \u001b[38;5;124m'\u001b[39m\u001b[38;5;124mlat\u001b[39m\u001b[38;5;124m'\u001b[39m, \u001b[38;5;124m'\u001b[39m\u001b[38;5;124msic\u001b[39m\u001b[38;5;124m'\u001b[39m, \u001b[38;5;124m'\u001b[39m\u001b[38;5;124mproj\u001b[39m\u001b[38;5;124m'\u001b[39m, \u001b[38;5;124m'\u001b[39m\u001b[38;5;124mds\u001b[39m\u001b[38;5;124m'\u001b[39m], \n\u001b[1;32m     12\u001b[0m                    include_units\u001b[38;5;241m=\u001b[39m\u001b[38;5;28;01mFalse\u001b[39;00m, annual_folders\u001b[38;5;241m=\u001b[39m\u001b[38;5;28;01mFalse\u001b[39;00m, return_dict \u001b[38;5;241m=\u001b[39m \u001b[38;5;28;01mTrue\u001b[39;00m, quiet\u001b[38;5;241m=\u001b[39m\u001b[38;5;28;01mTrue\u001b[39;00m)\n\u001b[1;32m     14\u001b[0m \u001b[38;5;66;03m# create figure\u001b[39;00m\n\u001b[1;32m     15\u001b[0m \u001b[38;5;66;03m#--------------\u001b[39;00m\n\u001b[1;32m     16\u001b[0m \u001b[38;5;66;03m# create map figure in north polar stereographic projection\u001b[39;00m\n\u001b[1;32m     17\u001b[0m map_projection \u001b[38;5;241m=\u001b[39m ccrs\u001b[38;5;241m.\u001b[39mNorthPolarStereo(central_longitude\u001b[38;5;241m=\u001b[39m\u001b[38;5;241m205\u001b[39m)\n",
      "\u001b[0;31mNameError\u001b[0m: name 'grab_ASI_SIC' is not defined"
     ]
    }
   ],
   "source": [
    "\n",
    "# specify date to plot\n",
    "#============================\n",
    "date = datetime(2024, 2, 15)\n",
    "#============================\n",
    "\n",
    "# read daily sic data from computer files into dictionary\n",
    "data = grab_ASI_SIC(date=date, \n",
    "                   main_path='/Volumes/Seagate2/asi-nc/files/', \n",
    "                   coord_file='LongitudeLatitudeGrid-n6250-Arctic.hdf', \n",
    "                   hemisphere='n', resolution='6250', version='v5.4', \n",
    "                   return_vars=['xx', 'yy', 'lon', 'lat', 'sic', 'proj', 'ds'], \n",
    "                   include_units=False, annual_folders=False, return_dict = True, quiet=True)\n",
    "\n",
    "# create figure\n",
    "#--------------\n",
    "# create map figure in north polar stereographic projection\n",
    "map_projection = ccrs.NorthPolarStereo(central_longitude=205)\n",
    "fig, ax = plt.subplots(figsize=(5,5), subplot_kw=dict(projection=map_projection))\n",
    "\n",
    "# background color\n",
    "ax.patch.set_facecolor('lightgray')\n",
    "\n",
    "# set map extent [lon1, lon2, lat1, lat2]\n",
    "ax.set_extent([0, 359, 60, 90], crs=ccrs.PlateCarree())  \n",
    "\n",
    "# add coastlines\n",
    "ax.coastlines(zorder=100)\n",
    "\n",
    "# lat / lon lines\n",
    "add_grid(ax, lats=np.arange(60,90,10), lons=np.arange(0,360,90), linewidth=1, color='gray', alpha=0.5, zorder=4)\n",
    "\n",
    "\n",
    "# plot 2d sic data \n",
    "icec = ax.pcolormesh(data['xx'], data['yy'], data['sic'], \n",
    "                     cmap = cmocean.cm.ice, vmin=0, vmax=100, transform=data['proj'])\n",
    "\n",
    "plt.colorbar(icec, label='SIC (%)', orientation='horizontal', shrink = 0.5, pad=0.025)\n",
    "\n",
    "\n",
    "# label date\n",
    "ax.text(0, 1, date.strftime('%Y-%B-%d'), ha='left', va='bottom', transform=ax.transAxes, clip_on=False)\n",
    "\n",
    "plt.show()\n",
    "\n",
    "\n",
    "# save figure, if desired\n",
    "save_path = f'/Users/REU/Desktop/map_{date.strftime(\"%Y-%m-%d\")}.png'\n",
    "fig.savefig(save_path, dpi=300, bbox_inches = 'tight')"
   ]
  },
  {
   "cell_type": "code",
   "execution_count": null,
   "id": "10501a67-2aaf-474a-ae1b-1d9dfcf148e8",
   "metadata": {},
   "outputs": [],
   "source": []
  }
 ],
 "metadata": {
  "kernelspec": {
   "display_name": "AK_polynya",
   "language": "python",
   "name": "ak_polynya"
  },
  "language_info": {
   "codemirror_mode": {
    "name": "ipython",
    "version": 3
   },
   "file_extension": ".py",
   "mimetype": "text/x-python",
   "name": "python",
   "nbconvert_exporter": "python",
   "pygments_lexer": "ipython3",
   "version": "3.12.2"
  }
 },
 "nbformat": 4,
 "nbformat_minor": 5
}
