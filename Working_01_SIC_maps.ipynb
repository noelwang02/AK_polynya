{
 "cells": [
  {
   "cell_type": "markdown",
   "id": "226b3e75",
   "metadata": {},
   "source": [
    "# 01. Map polynya events with University Bremen ASI Sea Ice Concentrations\n",
    "\n",
    "Data source:\n",
    "https://seaice.uni-bremen.de/sea-ice-concentration/amsre-amsr2/"
   ]
  },
  {
   "cell_type": "markdown",
   "id": "6fad4de8-b256-412a-8a7b-8ef76cc4a348",
   "metadata": {},
   "source": [
    "**This version of the map is edited by Noel Wang, based on the original code by Mackenzie Jewell**"
   ]
  },
  {
   "cell_type": "markdown",
   "id": "90fa94e5",
   "metadata": {},
   "source": [
    "This version is in the fork."
   ]
  },
  {
   "cell_type": "markdown",
   "id": "68e07f52",
   "metadata": {},
   "source": [
    "Note: the date ranges of this file are from \n",
    "\n",
    "June 6 2002 to 7 29 2002 <br>\n",
    "8-08-2002- Oct 4 2011 <br>\n",
    "July 7 2012 to june 13 2024 <br>"
   ]
  },
  {
   "cell_type": "markdown",
   "id": "bd4920b5",
   "metadata": {},
   "source": [
    "Note: to specify the version of Python used by the AK_polynya environment, edit the environment.yml file python ==version"
   ]
  },
  {
   "cell_type": "markdown",
   "id": "e03e3b60",
   "metadata": {},
   "source": [
    "## Import packages"
   ]
  },
  {
   "cell_type": "code",
   "execution_count": 2,
   "id": "e9baa51b",
   "metadata": {},
   "outputs": [],
   "source": [
    "# general\n",
    "import numpy as np, numpy.ma as ma\n",
    "import xarray as xr\n",
    "import pandas as pd\n",
    "\n",
    "# time\n",
    "from datetime import datetime, timedelta\n",
    "import matplotlib.dates as mdates\n",
    "\n",
    "# local system \n",
    "import sys  \n",
    "import glob\n",
    "import os\n",
    "\n",
    "# plotting\n",
    "import matplotlib as mpl\n",
    "from matplotlib import pyplot as plt\n",
    "from matplotlib.widgets import Button, Slider #import packages for the slider\n",
    "import matplotlib.animation as animation #imported for animation\n",
    "import matplotlib.colors\n",
    "import cmocean\n",
    "\n",
    "# geo plotting\n",
    "import cartopy\n",
    "import cartopy.crs as ccrs\n",
    "import cartopy.feature as cfeat\n",
    "\n",
    "# for use in suppressing repeated warnings when mapping w/ shapely\n",
    "import shapely\n",
    "import warnings\n",
    "from shapely.errors import ShapelyDeprecationWarning\n",
    "warnings.filterwarnings(\"ignore\", category=ShapelyDeprecationWarning) \n",
    "\n",
    "# path to own functions\n",
    "sys.path.append('../Libraries_functions/')\n",
    "from LIB_ASI_SIC_UniB import grab_ASI_SIC, grab_projinfo_SIC\n",
    "from LIB_geo_func import *\n",
    "from LIB_geo_plot import *\n",
    "\n",
    "%load_ext autoreload\n",
    "%autoreload 2\n",
    "# potentially uninstall pyhdf?\n",
    "\n",
    "#import shapely\n",
    "import shapely\n",
    "from shapely import Polygon"
   ]
  },
  {
   "cell_type": "code",
   "execution_count": null,
   "id": "c7e0ddee",
   "metadata": {},
   "outputs": [],
   "source": [
    "# This was to help me determine the correct date range for pulling the data\n",
    "# list = []\n",
    "# daterange = pd.date_range(datetime(2024, 1, 1), datetime(2024, 1, 5))\n",
    "# for date in daterange:\n",
    "#     if date > datetime(2024, 1, 2) and date < datetime(2024, 1, 4):\n",
    "#         continue\n",
    "#     else:\n",
    "#         print(date)"
   ]
  },
  {
   "cell_type": "markdown",
   "id": "1b76ea7b-a95f-48bf-b8e8-a2d0f3d384f4",
   "metadata": {},
   "source": [
    "## Make map"
   ]
  },
  {
   "cell_type": "code",
   "execution_count": 1,
   "id": "0ab1801c",
   "metadata": {
    "scrolled": true
   },
   "outputs": [
    {
     "ename": "NameError",
     "evalue": "name 'pd' is not defined",
     "output_type": "error",
     "traceback": [
      "\u001b[0;31m---------------------------------------------------------------------------\u001b[0m",
      "\u001b[0;31mNameError\u001b[0m                                 Traceback (most recent call last)",
      "Cell \u001b[0;32mIn[1], line 3\u001b[0m\n\u001b[1;32m      1\u001b[0m \u001b[38;5;66;03m#making the date list\u001b[39;00m\n\u001b[1;32m      2\u001b[0m \u001b[38;5;66;03m#============================\u001b[39;00m\n\u001b[0;32m----> 3\u001b[0m date_list \u001b[38;5;241m=\u001b[39m pd\u001b[38;5;241m.\u001b[39mdate_range(datetime(\u001b[38;5;241m2024\u001b[39m, \u001b[38;5;241m1\u001b[39m, \u001b[38;5;241m15\u001b[39m), datetime(\u001b[38;5;241m2024\u001b[39m, \u001b[38;5;241m1\u001b[39m, \u001b[38;5;241m15\u001b[39m)) \u001b[38;5;66;03m#make this a date list\u001b[39;00m\n\u001b[1;32m      5\u001b[0m \u001b[38;5;66;03m#============================\u001b[39;00m\n\u001b[1;32m      7\u001b[0m \u001b[38;5;28;01mfor\u001b[39;00m date \u001b[38;5;129;01min\u001b[39;00m date_list:\n",
      "\u001b[0;31mNameError\u001b[0m: name 'pd' is not defined"
     ]
    }
   ],
   "source": [
    "#making the date list\n",
    "#============================\n",
    "date_list = pd.date_range(datetime(2024, 1, 15), datetime(2024, 1, 15)) #make this a date list\n",
    "\n",
    "#============================\n",
    "\n",
    "for date in date_list:\n",
    "    if date > datetime(2011, 10, 4) and date < datetime(2012, 7, 2):\n",
    "        continue\n",
    "        \n",
    "    else:\n",
    "        # read daily sic data from computer files into dictionary\n",
    "        data = grab_ASI_SIC(date=date.to_pydatetime(), \n",
    "                        main_path='/Volumes/Seagate2/asi-AMSR-SIC/n6250/', \n",
    "                        coord_file='LongitudeLatitudeGrid-n6250-Arctic.hdf', \n",
    "                        hemisphere='n', resolution='6250', version='v5.4', \n",
    "                        return_vars=['xx', 'yy', 'lon', 'lat', 'sic', 'proj', 'ds'], \n",
    "                        include_units=False, annual_folders=False, return_dict = True, quiet=True)\n",
    "\n",
    "\n",
    "        # create figure\n",
    "        #--------------\n",
    "        # create map figure in north polar stereographic projection\n",
    "        map_projection = ccrs.NorthPolarStereo(central_longitude=200) #rotation of the map\n",
    "        fig1, ax1 = plt.subplots(figsize=(10,10), subplot_kw=dict(projection=map_projection))\n",
    "\n",
    "        # background color\n",
    "        ax1.patch.set_facecolor('lightgray')\n",
    "\n",
    "        # set map extent [lon1, lon2, lat1, lat2]\n",
    "        ax1.set_extent([200, 230, 68, 74], crs=ccrs.PlateCarree())  \n",
    "\n",
    "        # add coastlines\n",
    "        ax1.coastlines(zorder=100)\n",
    "\n",
    "        # lat / lon lines\n",
    "        add_grid(ax1, lats=np.arange(60,90,10), lons=np.arange(0,360,90), linewidth=1, color='gray', alpha=0.5, zorder=4)\n",
    "        ax1.gridlines(draw_labels=True, dms=False, x_inline=False, y_inline=False)\n",
    "\n",
    "\n",
    "        # # plot 2d sic data (all)\n",
    "        # icec = ax.pcolormesh(data['xx'], data['yy'], data['sic'], \n",
    "        #                     cmap = cmocean.cm.ice, vmin=0, vmax=100, transform=data['proj'])\n",
    "        \n",
    "        #datarange\n",
    "        d1 = (850, 950) #along y (right side, left side)\n",
    "        d2 = (240, 325) #along x (bottom, top)\n",
    "\n",
    "        # plot 2d sic data (limited)\n",
    "        icec = ax1.pcolormesh(data['xx'][d1[0]:d1[1], d2[0]:d2[1]], data['yy'][d1[0]:d1[1], d2[0]:d2[1]], data['sic'][d1[0]:d1[1], d2[0]:d2[1]], \n",
    "                            cmap = cmocean.cm.ice, vmin=0, vmax=100, transform=data['proj'])\n",
    "\n",
    "        # visualize the data points        \n",
    "        sp =10\n",
    "        #ax.scatter(data['xx'][::sp, ::sp], data['yy'][::sp, ::sp], transform=data['proj'])\n",
    "        \n",
    "        #add colorbar\n",
    "        plt.colorbar(icec, label='SIC (%)', orientation='horizontal', shrink = 0.5, pad=0.18)\n",
    "\n",
    "        # label date\n",
    "        ax1.text(0, 1.25, date.strftime('%Y-%B-%d'), ha='left', va='bottom', transform=ax1.transAxes, clip_on=False)\n",
    "\n",
    "        #plt.show()\n",
    "\n",
    "        # #save figure, if desired\n",
    "        # save_path = f'/Users/reu/Desktop/Maps/allJan/Jan2024/cropped_map_{date.strftime(\"%Y-%m-%d\")}.png'\n",
    "        # fig1.savefig(save_path, dpi=300, bbox_inches = 'tight')\n",
    "        # maps_list.append(save_path)\n",
    "\n",
    "        #plt.clf()\n",
    "\n",
    "    # datarange = data['sic'][d1[0]:d1[1], d2[0]:d2[1]]\n",
    "    # print(np.nanmean(datarange))\n"
   ]
  },
  {
   "cell_type": "markdown",
   "id": "19d7c3e2",
   "metadata": {},
   "source": [
    "### Determining points of a polygon"
   ]
  },
  {
   "cell_type": "code",
   "execution_count": null,
   "id": "ba62eda8",
   "metadata": {},
   "outputs": [],
   "source": [
    "#determining the points of the polygon\n",
    "top_left = (850, 200)\n",
    "    # ax1.scatter(data['xx'][d1[0]:d1[1], d2[0]:d2[1]], data['yy'][d1[0]:d1[1], d2[0]:d2[1]], s=0.5, \n",
    "    #             color='red', transform=data['proj']\n",
    "    \n",
    "ax1.scatter(data['xx'][875, 280], data['yy'][875, 280], s=10, \n",
    "    color='red', transform=data['proj'])\n",
    "ax1.scatter(data['xx'][800, 320], data['yy'][935, 340], s=10, \n",
    "    color='orange', transform=data['proj'])\n",
    "ax1.scatter(data['xx'][240, 950], data['yy'][240, 950], s=10, \n",
    "    color='red', transform=data['proj'])\n",
    "ax1.scatter(data['xx'][240, 850], data['yy'][240, 850], s=10, \n",
    "    color='red', transform=data['proj'])\n",
    "\n",
    "        # d1 = (850, 950) #along y (right side, left side)\n",
    "        # d2 = (240, 325) #along x (bottom, top)\n",
    "        \n",
    "ax1.scatter(data['xx'][850, 950], data['yy'][240, 325], s = 20, color = 'pink', transform=data['proj'])"
   ]
  },
  {
   "cell_type": "code",
   "execution_count": null,
   "id": "fed719e2",
   "metadata": {},
   "outputs": [],
   "source": [
    "# plt.plot(data[\"xx\"][875, 900], data[\"yy\"][250, 300])"
   ]
  },
  {
   "cell_type": "code",
   "execution_count": null,
   "id": "5c7756f3",
   "metadata": {},
   "outputs": [],
   "source": [
    "data['proj']"
   ]
  },
  {
   "cell_type": "markdown",
   "id": "c5320030",
   "metadata": {},
   "source": [
    "## Time Series Plots"
   ]
  },
  {
   "cell_type": "code",
   "execution_count": null,
   "id": "185f5a5a",
   "metadata": {},
   "outputs": [],
   "source": [
    "#making the date list\n",
    "#============================\n",
    "date_list = pd.date_range(datetime(2024, 1, 1), datetime(2024, 1, 31)) #make this a date list\n",
    "\n",
    "#============================\n",
    "\n",
    "#datarange\n",
    "d1 = (850, 950) #along y\n",
    "d2 = (200, 325) #along x\n",
    "\n",
    "#list of SIC Concentrations\n",
    "SIC_list = []\n",
    "\n",
    "for date in date_list:\n",
    "    if date > datetime(2011, 10, 4) and date < datetime(2012, 7, 2):\n",
    "        continue      \n",
    "    else:\n",
    "        # read daily sic data from computer files into dictionary\n",
    "        data = grab_ASI_SIC(date=date.to_pydatetime(), \n",
    "            main_path='/Volumes/Seagate2/asi-AMSR-SIC/n6250/', \n",
    "            coord_file='LongitudeLatitudeGrid-n6250-Arctic.hdf', \n",
    "            hemisphere='n', resolution='6250', version='v5.4', \n",
    "            return_vars=['xx', 'yy', 'lon', 'lat', 'sic', 'proj', 'ds'], \n",
    "            include_units=False, annual_folders=False, return_dict = True, quiet=True)\n",
    "        \n",
    "        datarange = data['sic'][d1[0]:d1[1], d2[0]:d2[1]]\n",
    "        average_SIC = (np.nanmean(datarange))\n",
    "        SIC_list.append(average_SIC)\n",
    "\n",
    "# Creating the plot\n",
    "x = date_list\n",
    "y = SIC_list\n",
    "fig2, ax2 = plt.subplots(figsize=(25,5))\n",
    "plt.plot(x,y)\n",
    "\n",
    "# Adding a title\n",
    "plt.title(f'Average SIC from {date_list[0].strftime(\"%d-%b-%Y\")} to {date_list[-1].strftime(\"%d-%b-%Y\")} over polynya')\n",
    "\n",
    "# Adding and customizing axis labels\n",
    "plt.xlabel('Date')\n",
    "plt.ylabel('SIC (%)')\n",
    "plt.xticks(rotation=30)\n",
    "plt.xticks(date_list)\n",
    "ax2.xaxis.set_major_formatter(mdates.DateFormatter('%b-%d')) \n",
    "\n",
    "\n",
    "plt.show()"
   ]
  },
  {
   "cell_type": "code",
   "execution_count": null,
   "id": "6d059737",
   "metadata": {},
   "outputs": [],
   "source": [
    "i = 0\n",
    "newlist = []\n",
    "while i < 3:\n",
    "    newlist.append(date_list[i])\n",
    "    i += 1\n",
    "print(newlist)\n",
    "\n",
    "print(type((np.datetime64('2024-01-01'))))\n",
    "print(type(date_list[0]))\n",
    "\n",
    "# converted = date.to_pydatetime()(date_list[0])\n",
    "# print(f'converted is = {type(converted)}')\n",
    "\n",
    "l = np.arange(np.datetime64('2024-01-01'), np.datetime64('2024-01-31'))"
   ]
  },
  {
   "cell_type": "code",
   "execution_count": null,
   "id": "9b0cfffa",
   "metadata": {},
   "outputs": [],
   "source": [
    "# save figure\n",
    "save_path = f'/Users/reu/Box/Plots/time_series_{date_list[0].strftime(\"%d-%b-%y\")} to {date_list[-1].strftime(\"%d-%b-%y\")}.png'\n",
    "fig2.savefig(save_path, dpi=300, bbox_inches = 'tight')"
   ]
  },
  {
   "cell_type": "code",
   "execution_count": null,
   "id": "9956e6a9",
   "metadata": {},
   "outputs": [],
   "source": [
    "datarange = data['sic'][d1[0]:d1[1], d2[0]:d2[1]]\n",
    "np.nanmean(datarange)"
   ]
  },
  {
   "cell_type": "markdown",
   "id": "08272a10",
   "metadata": {},
   "source": [
    "## Useful lines of code for seeing information about the dataset"
   ]
  },
  {
   "cell_type": "code",
   "execution_count": null,
   "id": "2f27291e",
   "metadata": {},
   "outputs": [],
   "source": [
    "#a useful line for seeing information about a dataset. This works for 'xx', 'yy', 'lon', 'lat', 'sic', 'proj', 'ds' \n",
    "#data[\"ds\"]\n",
    "#data['proj']\n",
    "\n",
    "# data['ds'].x.shape\n",
    "\n",
    "#data['yy'][d1[0]:d1[1], :]"
   ]
  },
  {
   "cell_type": "code",
   "execution_count": null,
   "id": "f0cb90e3",
   "metadata": {},
   "outputs": [],
   "source": [
    "#example of a graph of all of the data. Not quite sure why it's in Vikings colors though\n",
    "#plt.pcolormesh(data['xx'], data['yy'], data['sic'])"
   ]
  },
  {
   "cell_type": "markdown",
   "id": "91acfe98",
   "metadata": {},
   "source": [
    "## Creating a cropped map in the original coordinate system"
   ]
  },
  {
   "cell_type": "code",
   "execution_count": null,
   "id": "a07ac96d",
   "metadata": {},
   "outputs": [],
   "source": [
    "# create figure\n",
    "#--------------\n",
    "# create map figure in north polar stereographic projection\n",
    "map_projection = data['proj']\n",
    "# map_projection = ccrs.NorthPolarStereo(central_longitude=205)\n",
    "fig, ax = plt.subplots(figsize=(5,5), subplot_kw=dict(projection=map_projection))\n",
    "\n",
    "# background color\n",
    "ax.patch.set_facecolor('lightgray')\n",
    "\n",
    "# set map extent [lon1, lon2, lat1, lat2]\n",
    "# ax.set_extent([200, 230, 68, 74], crs=ccrs.PlateCarree())  \n",
    "\n",
    "#datarange\n",
    "d1 = (800, 1000) #along y\n",
    "d2 = (200, 400)\n",
    "\n",
    "# plot 2d sic data \n",
    "icec = ax.pcolormesh(data['xx'][d1[0]:d1[1], d2[0]:d2[1]], data['yy'][d1[0]:d1[1], d2[0]:d2[1]], data['sic'][d1[0]:d1[1], d2[0]:d2[1]], \n",
    "                    cmap = cmocean.cm.ice, vmin=0, vmax=100, transform=data['proj'])\n",
    "\n",
    "#plotting a grid of points\n",
    "# sp = 50\n",
    "# ax.scatter(data['xx'][::sp, ::sp], data['yy'][::sp, ::sp], transform=data['proj'])\n",
    "#transform tells function original >> map_projection\n",
    "\n",
    "#highlighting a subset of data \n",
    "#ax.scatter(data['xx'][d1[0]:d1[1], d2[0]:d2[1]][::sp, ::sp], data['yy'][d1[0]:d1[1], d2[0]:d2[1]][::sp, ::sp], transform=data['proj'], c='orange')\n",
    "\n",
    "#showing a subset of the data\n",
    "#data['xx']\n",
    "#data[\"ds\"].x.values\n",
    "\n",
    "print(type(data[\"proj\"]))"
   ]
  },
  {
   "cell_type": "markdown",
   "id": "3e56f7e5",
   "metadata": {},
   "source": [
    "## Make images into a GIF"
   ]
  },
  {
   "cell_type": "code",
   "execution_count": null,
   "id": "62e2758a",
   "metadata": {},
   "outputs": [],
   "source": [
    "#I ended up using MacKenzie's code for this\n",
    "\n",
    "# import imageio\n",
    "# images = []\n",
    "# for filename in :\n",
    "#     images.append(imageio.imread(save_path))\n",
    "# imageio.mimsave('/path/to/movie.gif', images)"
   ]
  },
  {
   "cell_type": "markdown",
   "id": "94d16d49-458f-4f0d-addb-394a02108ddc",
   "metadata": {},
   "source": [
    "## Plot the map with the slider"
   ]
  },
  {
   "cell_type": "code",
   "execution_count": null,
   "id": "537bed9f-cc49-4656-bad0-d45090e4b163",
   "metadata": {},
   "outputs": [],
   "source": [
    "# #plot the map\n",
    "# plt.show()\n",
    "\n",
    "        # #make a vertical slider for the date\n",
    "        # fig.subplots_adjust(left=0.25) #move the plot over to make room for the slider\n",
    "        # axdate = fig.add_axes([0.1, 0.25, 0.0225, 0.63]) #make a box to put the slider in\n",
    "        # time_slider = Slider(\n",
    "        #     ax=axdate,\n",
    "        #     label=\"Date\",\n",
    "        #     valmin=0,\n",
    "        #     valmax=100\n",
    "        # )"
   ]
  }
 ],
 "metadata": {
  "kernelspec": {
   "display_name": "AK_polynya",
   "language": "python",
   "name": "python3"
  },
  "language_info": {
   "codemirror_mode": {
    "name": "ipython",
    "version": 3
   },
   "file_extension": ".py",
   "mimetype": "text/x-python",
   "name": "python",
   "nbconvert_exporter": "python",
   "pygments_lexer": "ipython3",
   "version": "3.12.2"
  }
 },
 "nbformat": 4,
 "nbformat_minor": 5
}
