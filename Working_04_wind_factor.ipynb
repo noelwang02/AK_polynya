{
 "cells": [
  {
   "cell_type": "code",
   "execution_count": null,
   "metadata": {},
   "outputs": [],
   "source": []
  },
  {
   "cell_type": "markdown",
   "metadata": {},
   "source": [
    "# 04 Wind factor calculations with ERA5 data and OSI_SAF data"
   ]
  },
  {
   "cell_type": "markdown",
   "metadata": {},
   "source": [
    "Code adapted from previous codes"
   ]
  },
  {
   "cell_type": "markdown",
   "metadata": {},
   "source": [
    "### Import packages"
   ]
  },
  {
   "cell_type": "code",
   "execution_count": 1,
   "metadata": {},
   "outputs": [],
   "source": [
    "# general\n",
    "import numpy as np, numpy.ma as ma\n",
    "import xarray as xr\n",
    "import pandas as pd\n",
    "\n",
    "# time\n",
    "from datetime import datetime, timedelta\n",
    "import matplotlib.dates as mdates\n",
    "\n",
    "# local system \n",
    "import sys  \n",
    "import glob\n",
    "import os\n",
    "\n",
    "# plotting\n",
    "import matplotlib as mpl\n",
    "from matplotlib import pyplot as plt\n",
    "import matplotlib.colors\n",
    "import cmocean\n",
    "\n",
    "# geo plotting\n",
    "import cartopy\n",
    "import cartopy.crs as ccrs\n",
    "import cartopy.feature as cfeat\n",
    "\n",
    "# for use in suppressing repeated warnings when mapping w/ shapely\n",
    "import shapely\n",
    "import warnings\n",
    "from shapely.errors import ShapelyDeprecationWarning\n",
    "warnings.filterwarnings(\"ignore\", category=ShapelyDeprecationWarning) \n",
    "\n",
    "# path to own functions\n",
    "sys.path.append('../Libraries_functions/')\n",
    "from LIB_ASI_SIC_UniB import grab_ASI_SIC, grab_projinfo_SIC\n",
    "from LIB_geo_func import *\n",
    "from LIB_geo_plot import *\n",
    "\n",
    "\n",
    "# OSI SAF sea ice drift\n",
    "from LIB_OSI_SAF import grab_projinfo_OSISAF, grab_OSISAF_drift\n",
    "\n",
    "# NSIDC sea ice drift\n",
    "from LIB_PPdrift_NSIDC0116 import grab_projinfo_PPdrift\n",
    "\n",
    "\n",
    "%load_ext autoreload\n",
    "%autoreload 2\n",
    "# potentially uninstall pyhdf?\n",
    "\n",
    "#math\n",
    "import math"
   ]
  },
  {
   "cell_type": "markdown",
   "metadata": {},
   "source": [
    "### Sea ice drift "
   ]
  },
  {
   "cell_type": "code",
   "execution_count": null,
   "metadata": {},
   "outputs": [],
   "source": [
    "\n",
    "# specify date to import\n",
    "#============================\n",
    "date = datetime(2024, 1, 14)\n",
    "#============================\n",
    "\n",
    "OSISAF = grab_OSISAF_drift(date = date, \n",
    "                          main_path = '/Volumes/Seagate2/OSI_SAF_Drift/')\n",
    "\n",
    "\n",
    "# OSISAF sea ice drift for mapping\n",
    "qv1 = ax_map.quiver(OSISAF['x'], OSISAF['y'], OSISAF['dx']/2, OSISAF['dy']/2, \n",
    "               color = 'gray', width = 0.002, headwidth=5, scale = 500, transform = OSISAF['proj'], zorder=5)\n",
    "qk = ax_map.quiverkey(qv1, 0.9, 0.1, 20, r'$20 \\frac{km}{day}$', labelpos='E',transform=ccrs.PlateCarree(),)\n",
    "\n",
    "#storing data for mapping\n",
    "all_speeds = []\n",
    "angles_list = []\n",
    "all_dates = pd.date_range(start='2024-1-1', end='2024-1-30', freq='D')\n",
    "\n",
    "x_cr = (22, 33) # bottom, top\n",
    "y_cr = (83, 92) #left, right\n",
    "\n",
    "# all_speeds = np.array([])\n",
    "all_speeds = []\n",
    "angles_list = []\n",
    "all_dates = pd.date_range(start='2024-1-1', end='2024-1-30', freq='D')\n",
    "\n",
    "for date in all_dates:\n",
    "\n",
    "    OSISAF = grab_OSISAF_drift(date = date, \n",
    "                          main_path = '/Volumes/Seagate2/OSI_SAF_Drift/')\n",
    "    \n",
    "#figure out the cropping\n",
    "\n",
    "    crop_dx = OSISAF['dx'][y_cr[0]:y_cr[1], x_cr[0]:x_cr[1]]/2\n",
    "    crop_dy = OSISAF['dy'][y_cr[0]:y_cr[1], x_cr[0]:x_cr[1]]/2\n",
    "    region_speed = np.sqrt(np.nanmean(crop_dx)**2 + np.nanmean(crop_dy)**2)\n",
    "    all_speeds.append(region_speed)\n",
    "    \n",
    "    #angle\n",
    "    angle = math.atan((np.nanmean(crop_dx))/np.nanmean(crop_dy)\n",
    "             )\n",
    "    angles_list.append(math.degrees(angle))\n",
    "\n",
    "print(len(all_speeds))\n",
    "print(angles_list)\n",
    "\n",
    "for date in all_dates:\n",
    "\n",
    "    OSISAF = grab_OSISAF_drift(date = date, \n",
    "                          main_path = '/Volumes/Seagate2/OSI_SAF_Drift/')\n",
    "    \n",
    "#figure out the cropping\n",
    "\n",
    "    crop_dx = OSISAF['dx'][y_cr[0]:y_cr[1], x_cr[0]:x_cr[1]]/2\n",
    "    crop_dy = OSISAF['dy'][y_cr[0]:y_cr[1], x_cr[0]:x_cr[1]]/2\n",
    "    region_speed = np.sqrt(np.nanmean(crop_dx)**2 + np.nanmean(crop_dy)**2)\n",
    "    all_speeds.append(region_speed)\n",
    "    \n",
    "    #angle\n",
    "    angle = math.atan((np.nanmean(crop_dx))/np.nanmean(crop_dy)\n",
    "             )\n",
    "    angles_list.append(math.degrees(angle))"
   ]
  },
  {
   "cell_type": "markdown",
   "metadata": {},
   "source": [
    "### Atmospheric wind"
   ]
  },
  {
   "cell_type": "code",
   "execution_count": null,
   "metadata": {},
   "outputs": [],
   "source": [
    "\n",
    "# specify date to import\n",
    "date_list = pd.date_range(datetime(2024, 1, 1), datetime(2024, 1, 31)) #make this a date list\n",
    "#============================\n",
    "\n",
    "file_path = '/Volumes/Seagate2/Jan2024ERA5.nc'\n",
    "\n",
    "ds = xr.load_dataset(file_path)\n",
    "ds.close\n",
    "\n",
    "ds_date = ds.sel(time = date)\n",
    "\n",
    "ERA5 = {}\n",
    "\n",
    "ERA5['time'] = ds_date.time.values\n",
    "ERA5['lon'] = ds_date.longitude.values\n",
    "ERA5['lat'] = ds_date.latitude.values\n",
    "\n",
    "ERA5['lon_grid'], ERA5['lat_grid'] = np.meshgrid(ERA5['lon'], ERA5['lat'])\n",
    "\n",
    "ERA5['u10'] = ds_date.u10.values\n",
    "ERA5['v10'] = ds_date.v10.values\n",
    "ERA5['t2m'] = ds_date.t2m.values\n",
    "ERA5['msl'] = ds_date.msl.values\n",
    "\n",
    "#create empty lists\n",
    "u10_average = []\n",
    "v10_average = []\n",
    "t2m_average = []\n",
    "date_axs = []\n",
    "\n",
    "#averaging the values for a given date\n",
    "for date in date_list:\n",
    "    #subsetting data\n",
    "    date_axs.append(date.to_pydatetime)\n",
    "    ds_subset = ds.sel(longitude = slice(-153, -135), latitude = slice(73, 69), time = slice(date, date + timedelta(hours=23)))\n",
    "    u10_average.append(ds_subset.mean(dim=(\"time\", \"latitude\", \"longitude\")).u10.values)\n",
    "    t2m_average.append((ds_subset.mean(dim=(\"time\", \"latitude\", \"longitude\")).t2m.values)-273.15) #convert to Celsius\n",
    "    v10_average.append((ds_subset.mean(dim=(\"time\", \"latitude\", \"longitude\")).v10.values))\n"
   ]
  },
  {
   "cell_type": "markdown",
   "metadata": {},
   "source": [
    "### Wind Factor time series"
   ]
  },
  {
   "cell_type": "code",
   "execution_count": null,
   "metadata": {},
   "outputs": [],
   "source": [
    "fig, ax = plt.subplots(figsize=(20,5))\n",
    "ax.plot(all_dates, angles_list)\n",
    "\n",
    "#formatting the plot\n",
    "plt.xticks(rotation=30)\n",
    "plt.xticks(all_dates)\n",
    "ax.xaxis.set_major_formatter(mdates.DateFormatter('%b-%d'))\n",
    "#labels\n",
    "plt.xlabel('Date')\n",
    "# ax.set_ylabel('sea ice speed (km/day)')\n",
    "\n",
    "ax.set_ylabel('angle (degrees)')\n",
    "\n",
    "plt.title(f'Sea ice drift angle {all_dates[0].strftime(\"%d-%b-%Y\")} to {all_dates[-1].strftime(\"%d-%b-%Y\")} over polynya')"
   ]
  },
  {
   "cell_type": "markdown",
   "metadata": {},
   "source": [
    "### export code to a csv file"
   ]
  },
  {
   "cell_type": "code",
   "execution_count": null,
   "metadata": {},
   "outputs": [],
   "source": []
  },
  {
   "cell_type": "code",
   "execution_count": null,
   "metadata": {},
   "outputs": [],
   "source": [
    "d = {'time': all_dates, 'angle_deg': angles_list, 'u10': u10_average, ''}\n",
    "df = pd.DataFrame(data=d)\n",
    "df.to_csv('./Data/speeds_ice.csv', index=None) #removes Index column\n",
    "df = pd.read_csv('./Data/speeds_ice.csv')\n",
    "df['time'] = pd.to_datetime(df.time)"
   ]
  }
 ],
 "metadata": {
  "kernelspec": {
   "display_name": "AK_polynya",
   "language": "python",
   "name": "python3"
  },
  "language_info": {
   "codemirror_mode": {
    "name": "ipython",
    "version": 3
   },
   "file_extension": ".py",
   "mimetype": "text/x-python",
   "name": "python",
   "nbconvert_exporter": "python",
   "pygments_lexer": "ipython3",
   "version": "3.12.2"
  }
 },
 "nbformat": 4,
 "nbformat_minor": 2
}
