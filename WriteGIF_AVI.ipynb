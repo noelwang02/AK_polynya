{
 "cells": [
  {
   "cell_type": "code",
   "execution_count": 1,
   "metadata": {},
   "outputs": [],
   "source": [
    "# read in png images of specified suffix within given folder(s),\n",
    "# write gif (with specified kwargs) to current directory\n",
    "#----------------------------------------------------------------\n",
    "\n",
    "# set path for folder in which images are stored...\n",
    "#\n",
    "# (1) if MainFolder is provided, search for images in each folder within main folder\n",
    "#\n",
    "#                          |-- folder2 (search here)\n",
    "# MainFolder (no search) --|\n",
    "#                          |-- folder1 (search here)\n",
    "# \n",
    "#\n",
    "# (2) else if SingleFolder provided, \n",
    "# will only search for images in the given directory\n",
    "#              \n",
    "# SingleFolder (search here)\n",
    "#"
   ]
  },
  {
   "cell_type": "markdown",
   "metadata": {},
   "source": [
    "### Make GIF"
   ]
  },
  {
   "cell_type": "code",
   "execution_count": 14,
   "metadata": {},
   "outputs": [
    {
     "ename": "ValueError",
     "evalue": "time data '2020' does not match format '%Y-%m-%d'",
     "output_type": "error",
     "traceback": [
      "\u001b[0;31m---------------------------------------------------------------------------\u001b[0m",
      "\u001b[0;31mValueError\u001b[0m                                Traceback (most recent call last)",
      "Cell \u001b[0;32mIn[14], line 55\u001b[0m\n\u001b[1;32m     52\u001b[0m \u001b[38;5;28;01mfor\u001b[39;00m image \u001b[38;5;129;01min\u001b[39;00m local_images:\n\u001b[1;32m     54\u001b[0m     image_date_string \u001b[38;5;241m=\u001b[39m (image\u001b[38;5;241m.\u001b[39msplit(\u001b[38;5;124m'\u001b[39m\u001b[38;5;124m_\u001b[39m\u001b[38;5;124m'\u001b[39m)[\u001b[38;5;241m-\u001b[39m\u001b[38;5;241m1\u001b[39m])\u001b[38;5;241m.\u001b[39msplit(\u001b[38;5;124m'\u001b[39m\u001b[38;5;124m.png\u001b[39m\u001b[38;5;124m'\u001b[39m)[\u001b[38;5;241m0\u001b[39m]\n\u001b[0;32m---> 55\u001b[0m     image_date \u001b[38;5;241m=\u001b[39m \u001b[43mdatetime\u001b[49m\u001b[38;5;241;43m.\u001b[39;49m\u001b[43mstrptime\u001b[49m\u001b[43m(\u001b[49m\u001b[43mimage_date_string\u001b[49m\u001b[43m,\u001b[49m\u001b[43m \u001b[49m\u001b[43mFileDateFormat\u001b[49m\u001b[43m)\u001b[49m\n\u001b[1;32m     57\u001b[0m     date_list\u001b[38;5;241m.\u001b[39mappend(image_date)\n\u001b[1;32m     58\u001b[0m     image_list\u001b[38;5;241m.\u001b[39mappend(folder\u001b[38;5;241m+\u001b[39mimage)\n",
      "File \u001b[0;32m/opt/anaconda3/envs/geoenvOSU/lib/python3.9/_strptime.py:568\u001b[0m, in \u001b[0;36m_strptime_datetime\u001b[0;34m(cls, data_string, format)\u001b[0m\n\u001b[1;32m    565\u001b[0m \u001b[38;5;28;01mdef\u001b[39;00m \u001b[38;5;21m_strptime_datetime\u001b[39m(\u001b[38;5;28mcls\u001b[39m, data_string, \u001b[38;5;28mformat\u001b[39m\u001b[38;5;241m=\u001b[39m\u001b[38;5;124m\"\u001b[39m\u001b[38;5;132;01m%a\u001b[39;00m\u001b[38;5;124m \u001b[39m\u001b[38;5;124m%\u001b[39m\u001b[38;5;124mb \u001b[39m\u001b[38;5;132;01m%d\u001b[39;00m\u001b[38;5;124m \u001b[39m\u001b[38;5;124m%\u001b[39m\u001b[38;5;124mH:\u001b[39m\u001b[38;5;124m%\u001b[39m\u001b[38;5;124mM:\u001b[39m\u001b[38;5;124m%\u001b[39m\u001b[38;5;124mS \u001b[39m\u001b[38;5;124m%\u001b[39m\u001b[38;5;124mY\u001b[39m\u001b[38;5;124m\"\u001b[39m):\n\u001b[1;32m    566\u001b[0m     \u001b[38;5;124;03m\"\"\"Return a class cls instance based on the input string and the\u001b[39;00m\n\u001b[1;32m    567\u001b[0m \u001b[38;5;124;03m    format string.\"\"\"\u001b[39;00m\n\u001b[0;32m--> 568\u001b[0m     tt, fraction, gmtoff_fraction \u001b[38;5;241m=\u001b[39m \u001b[43m_strptime\u001b[49m\u001b[43m(\u001b[49m\u001b[43mdata_string\u001b[49m\u001b[43m,\u001b[49m\u001b[43m \u001b[49m\u001b[38;5;28;43mformat\u001b[39;49m\u001b[43m)\u001b[49m\n\u001b[1;32m    569\u001b[0m     tzname, gmtoff \u001b[38;5;241m=\u001b[39m tt[\u001b[38;5;241m-\u001b[39m\u001b[38;5;241m2\u001b[39m:]\n\u001b[1;32m    570\u001b[0m     args \u001b[38;5;241m=\u001b[39m tt[:\u001b[38;5;241m6\u001b[39m] \u001b[38;5;241m+\u001b[39m (fraction,)\n",
      "File \u001b[0;32m/opt/anaconda3/envs/geoenvOSU/lib/python3.9/_strptime.py:349\u001b[0m, in \u001b[0;36m_strptime\u001b[0;34m(data_string, format)\u001b[0m\n\u001b[1;32m    347\u001b[0m found \u001b[38;5;241m=\u001b[39m format_regex\u001b[38;5;241m.\u001b[39mmatch(data_string)\n\u001b[1;32m    348\u001b[0m \u001b[38;5;28;01mif\u001b[39;00m \u001b[38;5;129;01mnot\u001b[39;00m found:\n\u001b[0;32m--> 349\u001b[0m     \u001b[38;5;28;01mraise\u001b[39;00m \u001b[38;5;167;01mValueError\u001b[39;00m(\u001b[38;5;124m\"\u001b[39m\u001b[38;5;124mtime data \u001b[39m\u001b[38;5;132;01m%r\u001b[39;00m\u001b[38;5;124m does not match format \u001b[39m\u001b[38;5;132;01m%r\u001b[39;00m\u001b[38;5;124m\"\u001b[39m \u001b[38;5;241m%\u001b[39m\n\u001b[1;32m    350\u001b[0m                      (data_string, \u001b[38;5;28mformat\u001b[39m))\n\u001b[1;32m    351\u001b[0m \u001b[38;5;28;01mif\u001b[39;00m \u001b[38;5;28mlen\u001b[39m(data_string) \u001b[38;5;241m!=\u001b[39m found\u001b[38;5;241m.\u001b[39mend():\n\u001b[1;32m    352\u001b[0m     \u001b[38;5;28;01mraise\u001b[39;00m \u001b[38;5;167;01mValueError\u001b[39;00m(\u001b[38;5;124m\"\u001b[39m\u001b[38;5;124munconverted data remains: \u001b[39m\u001b[38;5;132;01m%s\u001b[39;00m\u001b[38;5;124m\"\u001b[39m \u001b[38;5;241m%\u001b[39m\n\u001b[1;32m    353\u001b[0m                       data_string[found\u001b[38;5;241m.\u001b[39mend():])\n",
      "\u001b[0;31mValueError\u001b[0m: time data '2020' does not match format '%Y-%m-%d'"
     ]
    }
   ],
   "source": [
    "# import dependencies\n",
    "import glob\n",
    "import numpy as np\n",
    "import imageio\n",
    "\n",
    "# time\n",
    "from datetime import datetime, timedelta\n",
    "\n",
    "#==============================================================\n",
    "# PROVIDE ONE OR THE OTHER FOLDER BELOW, \n",
    "# SET OTHER FOLDER YOU'RE NOT PROVIDING = []\n",
    "#-------------------------------------------\n",
    "MainFolder = []\n",
    "SingleFolder = []\n",
    "\n",
    "\n",
    "# MainFolder = '/Users/mackenziejewell/Downloads/'\n",
    "SingleFolder = '/Users/mackenziejewell/Downloads/'\n",
    "\n",
    "# Suffix of images to collect during search\n",
    "#------------------------------------------\n",
    "Suffix = \".png\"\n",
    "\n",
    "# Format of date name in file\n",
    "# (date should come right before suffix, and after last underscore _ )\n",
    "#---------------------------\n",
    "FileDateFormat = \"%Y-%m-%d\"\n",
    "\n",
    "# duration of each frame (in seconds)\n",
    "#------------------------------------\n",
    "dur = 0.25\n",
    "#==============================================================\n",
    "\n",
    "date_list = []\n",
    "image_list =[]\n",
    "# find all folders in main directory\n",
    "# or look in single folder provided\n",
    "if MainFolder != []:\n",
    "    folder_list = glob.glob(MainFolder+\"*/\")\n",
    "    SaveFolder = MainFolder\n",
    "elif SingleFolder != []:\n",
    "    folder_list = glob.glob(SingleFolder)\n",
    "    SaveFolder = SingleFolder\n",
    "    \n",
    "# find list of images in each folder\n",
    "for folder in folder_list:\n",
    "    local_images = glob.glob1(folder, \"*\"+Suffix)\n",
    "    # add each image to image_list (with local folder in name)\n",
    "    # and store each image date in date_list\n",
    "    for image in local_images:\n",
    "        \n",
    "        image_date_string = (image.split('_')[-1]).split('.png')[0]\n",
    "        image_date = datetime.strptime(image_date_string, FileDateFormat)\n",
    "        \n",
    "        date_list.append(image_date)\n",
    "        image_list.append(folder+image)\n",
    "\n",
    "# combine lists and sort by date\n",
    "sequential_list = np.stack((date_list,image_list), axis=1)\n",
    "sequential_list = sequential_list[sequential_list[:,0].argsort()]\n",
    "\n",
    "# create imageio list of images\n",
    "im_list = []\n",
    "for im in (sequential_list)[:,1]:\n",
    "    im_list.append(imageio.v2.imread(im))\n",
    "\n",
    "# name of gif from first and last dates in sequence\n",
    "exportname = '{}_to_{}{}.gif'.format(sequential_list[0,0], sequential_list[-1,0], Suffix)\n",
    "print('GIF will be named: {}\\n-----------------'.format(exportname))\n",
    "print('GIF will be saved to: {}\\n--------------------'.format(SaveFolder))\n",
    "print('\\nFrames to compile into GIF:\\n--------------------------\\n', \n",
    "      sequential_list[0:2],'\\n...\\n', sequential_list[-2:])\n",
    "\n"
   ]
  },
  {
   "cell_type": "code",
   "execution_count": 18,
   "metadata": {},
   "outputs": [],
   "source": [
    "# Create GIF from image list generated above\n",
    "#==============================================================\n",
    "# set new exportname for GIF below if desired\n",
    "# else, comment out line below\n",
    "#--------------------------------------------\n",
    "# exportname = \n",
    "#==============================================================\n",
    "imageio.plugins.freeimage.download()\n",
    "\n",
    "# write gif with specified **{kwargs}\n",
    "imageio.mimwrite(SaveFolder+exportname,  im_list, 'GIF-FI', **{'duration':dur, 'quantizer':'nq'})\n",
    "\n",
    "\n",
    "# MORE INFO ON KWARGS: \n",
    "# https://imageio.readthedocs.io/en/stable/format_gif-fi.html#gif-fi\n",
    "\n",
    "# duration : {float, list}\n",
    "#-------------------------\n",
    "# The duration (in seconds) of each frame. \n",
    "# Either specify one value that is used for all frames, or one value for each frame. \n",
    "# Note that in the GIF format the duration/delay is expressed in hundredths of a second, \n",
    "# which limits the precision of the duration.\n",
    "\n",
    "# fps : float\n",
    "#------------\n",
    "# The number of frames per second. \n",
    "# If duration is not given, the duration for each frame is set to 1/fps. Default 10.\n",
    "\n",
    "# quantizer : {‘wu’, ‘nq’}\n",
    "#-------------------------\n",
    "# The quantization algorithm:\n",
    "# wu - Wu, Xiaolin, Efficient Statistical Computations for Optimal Color Quantization\n",
    "# nq (neuqant) - Dekker A. H., Kohonen neural networks for optimal color quantization\n",
    "\n",
    "# loop : int\n",
    "#-----------\n",
    "# The number of iterations. Default 0 (meaning loop indefinitely)"
   ]
  },
  {
   "cell_type": "code",
   "execution_count": null,
   "metadata": {},
   "outputs": [],
   "source": []
  },
  {
   "cell_type": "code",
   "execution_count": null,
   "metadata": {},
   "outputs": [],
   "source": []
  },
  {
   "cell_type": "code",
   "execution_count": null,
   "metadata": {},
   "outputs": [],
   "source": []
  },
  {
   "cell_type": "markdown",
   "metadata": {},
   "source": [
    "# create .avi video from imagery (use Copy_Files to copy desired images to single folder to create animation)"
   ]
  },
  {
   "cell_type": "code",
   "execution_count": 5,
   "metadata": {},
   "outputs": [
    {
     "name": "stdout",
     "output_type": "stream",
     "text": [
      "video will be named: MODIS_2012_animation_2012078.0540_to_2012083.0600_base.avi\n",
      "-----------------\n",
      "video will be saved to: /Volumes/Jewell_EasyStore/MODIS_2012_animation/updated/animation/\n",
      "--------------------\n",
      "\n",
      "Compile 16 frames into video:\n",
      "--------------------------\n",
      " [['2012078.0540'\n",
      "  '/Volumes/Jewell_EasyStore/MODIS_2012_animation/updated/animation/MOD021KM.A2012078.0540_base.png'\n",
      "  datetime.datetime(2012, 3, 18, 5, 40)]\n",
      " ['2012078.1255'\n",
      "  '/Volumes/Jewell_EasyStore/MODIS_2012_animation/updated/animation/MYD021KM.A2012078.1255_base.png'\n",
      "  datetime.datetime(2012, 3, 18, 12, 55)]] \n",
      "...\n",
      "...\n",
      "...\n",
      " [['2012082.2155'\n",
      "  '/Volumes/Jewell_EasyStore/MODIS_2012_animation/updated/animation/MOD021KM.A2012082.2155_base.png'\n",
      "  datetime.datetime(2012, 3, 22, 21, 55)]\n",
      " ['2012083.0600'\n",
      "  '/Volumes/Jewell_EasyStore/MODIS_2012_animation/updated/animation/MOD021KM.A2012083.0600_base.png'\n",
      "  datetime.datetime(2012, 3, 23, 6, 0)]]\n"
     ]
    }
   ],
   "source": [
    "\n",
    "# DON'T KNOW WHY THAT ANACONDA INSTALLED OPENCV STOPPED POINTING TO CV2\n",
    "# HAD TO PIP INSTALL\n",
    "# pip install opencv-python\n",
    "import cv2\n",
    "import os, glob\n",
    "import numpy as np\n",
    "# import imageio\n",
    "from LIB_plot_MODIS import get_MODISdate\n",
    "from LIB_print_func import print_line, print_boxed\n",
    "\n",
    "#==============================================================\n",
    "# PROVIDE ONE OR THE OTHER FOLDER BELOW, \n",
    "# SET OTHER FOLDER YOU'RE NOT PROVIDING = []\n",
    "#-------------------------------------------\n",
    "Folder = '/Volumes/Jewell_EasyStore/MODIS_2012_animation/updated/animation/'\n",
    "\n",
    "# Suffix of images to collect during search\n",
    "#------------------------------------------\n",
    "Suffix = \"_base\"\n",
    "ImageType = \".png\"\n",
    "\n",
    "Prefix_SaveName = \"MODIS_2012_animation\"\n",
    "\n",
    "# duration of each frame (in seconds)\n",
    "#------------------------------------\n",
    "dur = 0.25\n",
    "#==============================================================\n",
    "\n",
    "\n",
    "datestring_list = []\n",
    "date_list = []\n",
    "image_list =[]\n",
    "\n",
    "local_images = glob.glob1(Folder, \"*\"+Suffix+ImageType)\n",
    "# add each image to image_list (with local folder in name)\n",
    "# and store each image date in date_list\n",
    "for image in local_images:\n",
    "    imdate = get_MODISdate(image)\n",
    "    date = '{}{}.{}{}'.format(imdate.strftime('%Y'), imdate.strftime('%j'), imdate.strftime('%H'), imdate.strftime('%M'))\n",
    "    datestring_list.append(date)\n",
    "    date_list.append(imdate)\n",
    "    image_list.append(Folder+image)\n",
    "# combine lists and sort by date\n",
    "sequential_list = np.stack((datestring_list,image_list,date_list), axis=1)\n",
    "sequential_list = sequential_list[sequential_list[:,0].argsort()]\n",
    "\n",
    "# name of gif from first and last dates in sequence\n",
    "exportname = '{}_{}_to_{}{}.avi'.format(Prefix_SaveName,sequential_list[0,0], sequential_list[-1,0], Suffix)\n",
    "print('video will be named: {}\\n-----------------'.format(exportname))\n",
    "print('video will be saved to: {}\\n--------------------'.format(Folder))\n",
    "print(f'\\nCompile {len(sequential_list)} frames into video:\\n--------------------------\\n', sequential_list[0:2],'\\n...\\n...\\n...\\n', sequential_list[-2:])\n",
    "\n",
    "images = sequential_list[:,1]\n",
    "frame = cv2.imread(os.path.join(Folder, images[0]))\n",
    "height, width, layers = frame.shape\n",
    "\n",
    "\n",
    "# for avi:\n",
    "fourcc = 0\n",
    "\n",
    "# fourcc = cv2.VideoWriter_fourcc(*'mp4v')\n",
    "# fourcc = cv2.VideoWriter_fourcc('M','J','P','G')\n",
    "# fourcc = cv2.VideoWriter_fourcc(*'mp4v')\n",
    "# fourcc = cv2.VideoWriter_fourcc('m', 'p', '4', 'v')\n",
    "# fourcc = cv2.VideoWriter_fourcc(*'MJPG')\n",
    "    \n",
    "video = cv2.VideoWriter(Folder+exportname, fourcc, 1/dur, (width,height))\n",
    "\n",
    "ii = 0\n",
    "for image in images:\n",
    "    ii+=1\n",
    "    try:\n",
    "        video.write(cv2.imread(os.path.join(Folder, image)))\n",
    "    except:\n",
    "        print(image)\n",
    "        \n",
    "cv2.destroyAllWindows()\n",
    "video.release()"
   ]
  },
  {
   "cell_type": "code",
   "execution_count": 6,
   "metadata": {},
   "outputs": [
    {
     "data": {
      "text/plain": [
       "(-0.05, 10.0)"
      ]
     },
     "execution_count": 6,
     "metadata": {},
     "output_type": "execute_result"
    },
    {
     "data": {
      "image/png": "[encoded data removed]",
      "text/plain": [
       "<Figure size 1200x300 with 1 Axes>"
      ]
     },
     "metadata": {},
     "output_type": "display_data"
    }
   ],
   "source": [
    "\n",
    "sorted_dates = sequential_list[:,2]\n",
    "date_list_time_gap = np.array([])\n",
    "for dd in np.arange(len(sorted_dates)-1):\n",
    "    hour_gap = (sorted_dates[dd+1]-sorted_dates[dd]).total_seconds()/3600\n",
    "    date_list_time_gap = np.append(date_list_time_gap, hour_gap)\n",
    "    \n",
    "    \n",
    "import matplotlib.pyplot as plt\n",
    "import math\n",
    "fig = plt.subplots(figsize=(12,3))\n",
    "plt.plot(date_list_time_gap, c='k', marker='o')\n",
    "plt.hlines(np.mean(date_list_time_gap), 0, len(date_list_time_gap), linestyles='dashed', colors='lightgray', zorder=-1, label=f'mean: {np.mean(date_list_time_gap):.1f} hours')\n",
    "plt.hlines(np.min(date_list_time_gap), 0, len(date_list_time_gap), linestyles='dashed', colors='lightcoral', alpha=0.5, zorder=-1, label=f'min: {np.min(date_list_time_gap):.1f} hours')\n",
    "plt.hlines(np.max(date_list_time_gap), 0, len(date_list_time_gap), linestyles='dashed', colors='lightblue', alpha=0.5, zorder=-1, label=f'max: {np.max(date_list_time_gap):.1f} hours')\n",
    "plt.xlabel('image #')\n",
    "plt.ylabel('time gap between images (hours)')\n",
    "plt.legend(bbox_to_anchor=(1,1.2))\n",
    "plt.ylim(-0.05, math.ceil(np.max(date_list_time_gap)))"
   ]
  },
  {
   "cell_type": "code",
   "execution_count": 7,
   "metadata": {},
   "outputs": [
    {
     "data": {
      "text/plain": [
       "['MOD021KM.A2012078.0540_base.png',\n",
       " 'MOD021KM.A2012078.2220_base.png',\n",
       " 'MOD021KM.A2012079.0625_base.png',\n",
       " 'MOD021KM.A2012079.2125_base.png',\n",
       " 'MOD021KM.A2012080.0530_base.png',\n",
       " 'MOD021KM.A2012080.2205_base.png',\n",
       " 'MOD021KM.A2012081.0615_base.png',\n",
       " 'MOD021KM.A2012081.2250_base.png',\n",
       " 'MOD021KM.A2012082.0515_base.png',\n",
       " 'MOD021KM.A2012082.2155_base.png',\n",
       " 'MOD021KM.A2012083.0600_base.png',\n",
       " 'MYD021KM.A2012078.1255_base.png',\n",
       " 'MYD021KM.A2012079.1335_base.png',\n",
       " 'MYD021KM.A2012080.1240_base.png',\n",
       " 'MYD021KM.A2012081.1325_base.png',\n",
       " 'MYD021KM.A2012082.1405_base.png']"
      ]
     },
     "execution_count": 7,
     "metadata": {},
     "output_type": "execute_result"
    }
   ],
   "source": [
    "png_list = []\n",
    "\n",
    "for file in os.listdir(Folder):\n",
    "    if file.endswith(\".png\"):\n",
    "        png_list.append(file)\n",
    "#         print(os.path.join(\"/mydir\", file))\n",
    "        \n",
    "png_list\n",
    "# for file in glob.glob(\"*.png\"):\n",
    "# #     print(file)\n",
    "#     png_list.append(file)"
   ]
  },
  {
   "cell_type": "code",
   "execution_count": 8,
   "metadata": {},
   "outputs": [],
   "source": [
    "# downsized[0].save(fp=out_name, format='GIF', append_images=downsized[1:],\n",
    "#                   quality=quality, save_all=True,\n",
    "#                   duration=250, loop=0, optimize=True)"
   ]
  },
  {
   "cell_type": "markdown",
   "metadata": {},
   "source": [
    "### Converting from .avi to .mp4"
   ]
  },
  {
   "cell_type": "code",
   "execution_count": 9,
   "metadata": {},
   "outputs": [],
   "source": [
    "import os\n",
    "\n",
    "def convert_avi_to_mp4(avi_file):\n",
    "    \n",
    "    ffmpeg_path='/opt/anaconda3/envs/geoenvOSU/bin/ffmpeg'\n",
    "    \n",
    "    output_name = avi_file.split('.avi')[0]\n",
    "    \n",
    "    # decreases resolution(and file size)\n",
    "#     os.popen(\"{ffmpeg_path} -i {input} -ac 2 -b:v 2000k -c:a aac -c:v libx264 -b:a 160k -vprofile high -bf 0 -strict experimental -f mp4 {output}.mp4\".format(ffmpeg_path = ffmpeg_path, input = avi_file_path, output = output_name))\n",
    "    \n",
    "    # higher resolution\n",
    "    os.popen(\"{ffmpeg_path} -i {input} -c:v libx264 -crf 19 -preset slow -c:a libfdk_aac -b:a 192k -ac 2 {output}.mp4\".format(ffmpeg_path = ffmpeg_path, input = avi_file, output = output_name))\n",
    "    \n",
    "    print(f'saving as {output_name}.mp4')\n",
    "    return True"
   ]
  },
  {
   "cell_type": "code",
   "execution_count": 10,
   "metadata": {},
   "outputs": [
    {
     "name": "stdout",
     "output_type": "stream",
     "text": [
      "saving as /Volumes/Jewell_EasyStore/MODIS_2012_animation/updated/animation/MODIS_2012_animation_2012078.0540_to_2012083.0600_base.mp4\n"
     ]
    },
    {
     "data": {
      "text/plain": [
       "True"
      ]
     },
     "execution_count": 10,
     "metadata": {},
     "output_type": "execute_result"
    },
    {
     "name": "stderr",
     "output_type": "stream",
     "text": [
      "ffmpeg version 4.3.2 Copyright (c) 2000-2021 the FFmpeg developers\n",
      "  built with clang version 12.0.1\n",
      "  configuration: --prefix=/opt/anaconda3/envs/geoenvOSU --cc=x86_64-apple-darwin13.4.0-clang --disable-doc --disable-openssl --enable-avresample --enable-gnutls --enable-gpl --enable-hardcoded-tables --enable-libfreetype --enable-libopenh264 --enable-libx264 --enable-pic --enable-pthreads --enable-shared --disable-static --enable-version3 --enable-zlib --enable-libmp3lame --pkg-config=/Users/runner/miniforge3/conda-bld/ffmpeg_1645955481026/_build_env/bin/pkg-config\n",
      "  libavutil      56. 51.100 / 56. 51.100\n",
      "  libavcodec     58. 91.100 / 58. 91.100\n",
      "  libavformat    58. 45.100 / 58. 45.100\n",
      "  libavdevice    58. 10.100 / 58. 10.100\n",
      "  libavfilter     7. 85.100 /  7. 85.100\n",
      "  libavresample   4.  0.  0 /  4.  0.  0\n",
      "  libswscale      5.  7.100 /  5.  7.100\n",
      "  libswresample   3.  7.100 /  3.  7.100\n",
      "  libpostproc    55.  7.100 / 55.  7.100\n",
      "[avi @ 0x7fa59f00b200] Stream #0: not enough frames to estimate rate; consider increasing probesize\n",
      "Input #0, avi, from '/Volumes/Jewell_EasyStore/MODIS_2012_animation/updated/animation/MODIS_2012_animation_2012078.0540_to_2012083.0600_base.avi':\n",
      "  Metadata:\n",
      "    encoder         : Lavf58.76.100\n",
      "  Duration: 00:00:04.00, start: 0.000000, bitrate: 238018 kb/s\n",
      "    Stream #0:0: Video: rawvideo (I420 / 0x30323449), yuv420p, 2474x2004, 253844 kb/s, 4 fps, 4 tbr, 4 tbn, 4 tbc\n",
      "Codec AVOption b (set bitrate (in bits/s)) specified for output file #0 (/Volumes/Jewell_EasyStore/MODIS_2012_animation/updated/animation/MODIS_2012_animation_2012078.0540_to_2012083.0600_base.mp4) has not been used for any stream. The most likely reason is either wrong type (e.g. a video option with no video streams) or that it is a private option of some encoder which was not actually used for any stream.\n",
      "Stream mapping:\n",
      "  Stream #0:0 -> #0:0 (rawvideo (native) -> h264 (libx264))\n",
      "Press [q] to stop, [?] for help\n",
      "[libx264 @ 0x7fa5a000a800] using cpu capabilities: MMX2 SSE2Fast SSSE3 SSE4.2 AVX\n",
      "[libx264 @ 0x7fa5a000a800] profile High, level 5.0, 4:2:0, 8-bit\n",
      "[libx264 @ 0x7fa5a000a800] 264 - core 161 r3030M 8bd6d28 - H.264/MPEG-4 AVC codec - Copyleft 2003-2020 - http://www.videolan.org/x264.html - options: cabac=1 ref=5 deblock=1:0:0 analyse=0x3:0x113 me=hex subme=8 psy=1 psy_rd=1.00:0.00 mixed_ref=1 me_range=16 chroma_me=1 trellis=2 8x8dct=1 cqm=0 deadzone=21,11 fast_pskip=1 chroma_qp_offset=-2 threads=12 lookahead_threads=2 sliced_threads=0 nr=0 decimate=1 interlaced=0 bluray_compat=0 constrained_intra=0 bframes=3 b_pyramid=2 b_adapt=1 b_bias=0 direct=3 weightb=1 open_gop=0 weightp=2 keyint=250 keyint_min=4 scenecut=40 intra_refresh=0 rc_lookahead=50 rc=crf mbtree=1 crf=19.0 qcomp=0.60 qpmin=0 qpmax=69 qpstep=4 ip_ratio=1.40 aq=1:1.00\n",
      "Output #0, mp4, to '/Volumes/Jewell_EasyStore/MODIS_2012_animation/updated/animation/MODIS_2012_animation_2012078.0540_to_2012083.0600_base.mp4':\n",
      "  Metadata:\n",
      "    encoder         : Lavf58.45.100\n",
      "    Stream #0:0: Video: h264 (libx264) (avc1 / 0x31637661), yuv420p, 2474x2004, q=-1--1, 4 fps, 16384 tbn, 4 tbc\n",
      "    Metadata:\n",
      "      encoder         : Lavc58.91.100 libx264\n",
      "    Side data:\n",
      "      cpb: bitrate max/min/avg: 0/0/0 buffer size: 0 vbv_delay: N/A\n",
      "frame=   16 fps=1.9 q=-1.0 Lsize=    4386kB time=00:00:03.25 bitrate=11054.9kbits/s speed=0.395x    \n",
      "video:4385kB audio:0kB subtitle:0kB other streams:0kB global headers:0kB muxing overhead: 0.022672%\n",
      "[libx264 @ 0x7fa5a000a800] frame I:1     Avg QP:10.23  size:376306\n",
      "[libx264 @ 0x7fa5a000a800] frame P:12    Avg QP:15.39  size:277183\n",
      "[libx264 @ 0x7fa5a000a800] frame B:3     Avg QP:15.80  size:262307\n",
      "[libx264 @ 0x7fa5a000a800] consecutive B-frames: 62.5% 37.5%  0.0%  0.0%\n",
      "[libx264 @ 0x7fa5a000a800] mb I  I16..4: 32.7% 47.4% 19.9%\n",
      "[libx264 @ 0x7fa5a000a800] mb P  I16..4:  1.8% 33.9%  8.3%  P16..4: 10.5%  4.6%  1.5%  0.0%  0.0%    skip:39.4%\n",
      "[libx264 @ 0x7fa5a000a800] mb B  I16..4:  1.2% 25.2%  7.7%  B16..8: 13.2%  8.8%  2.3%  direct: 2.2%  skip:39.4%  L0:64.4% L1:25.0% BI:10.6%\n",
      "[libx264 @ 0x7fa5a000a800] 8x8 transform intra:72.5% inter:57.8%\n",
      "[libx264 @ 0x7fa5a000a800] direct mvs  spatial:0.0% temporal:100.0%\n",
      "[libx264 @ 0x7fa5a000a800] coded y,uvDC,uvAC intra: 89.5% 0.1% 0.0% inter: 26.3% 0.1% 0.0%\n",
      "[libx264 @ 0x7fa5a000a800] i16 v,h,dc,p: 67% 18%  3% 11%\n",
      "[libx264 @ 0x7fa5a000a800] i8 v,h,dc,ddl,ddr,vr,hd,vl,hu:  8%  7% 11% 11% 12% 10% 12% 13% 15%\n",
      "[libx264 @ 0x7fa5a000a800] i4 v,h,dc,ddl,ddr,vr,hd,vl,hu:  8%  7%  7% 11% 14% 11% 14% 12% 16%\n",
      "[libx264 @ 0x7fa5a000a800] i8c dc,h,v,p: 98%  2%  0%  1%\n",
      "[libx264 @ 0x7fa5a000a800] Weighted P-Frames: Y:0.0% UV:0.0%\n",
      "[libx264 @ 0x7fa5a000a800] ref P L0: 21.6%  3.4% 31.5% 22.0% 13.0%  8.6%\n",
      "[libx264 @ 0x7fa5a000a800] ref B L0: 38.8% 30.9% 30.3%\n",
      "[libx264 @ 0x7fa5a000a800] kb/s:8978.85\n"
     ]
    }
   ],
   "source": [
    "# convert_avi_to_mp4('/Volumes/Jewell_EasyStore/SIDEx2021/MODIS_animation/SIDEx_2021event_MODIS_2021073.0435_to_2021080.2255.avi', \n",
    "#                    '/Volumes/Jewell_EasyStore/SIDEx2021/MODIS_animation/SIDEx_2021event_MODIS')\n",
    "\n",
    "\n",
    "convert_avi_to_mp4(Folder+exportname)\n",
    "\n"
   ]
  },
  {
   "cell_type": "code",
   "execution_count": null,
   "metadata": {},
   "outputs": [],
   "source": []
  },
  {
   "cell_type": "code",
   "execution_count": null,
   "metadata": {},
   "outputs": [],
   "source": []
  }
 ],
 "metadata": {
  "kernelspec": {
   "display_name": "geoenvOSU",
   "language": "python",
   "name": "geoenvosu"
  },
  "language_info": {
   "codemirror_mode": {
    "name": "ipython",
    "version": 3
   },
   "file_extension": ".py",
   "mimetype": "text/x-python",
   "name": "python",
   "nbconvert_exporter": "python",
   "pygments_lexer": "ipython3",
   "version": "3.9.12"
  }
 },
 "nbformat": 4,
 "nbformat_minor": 4
}
