{
 "cells": [
  {
   "cell_type": "markdown",
   "metadata": {},
   "source": [
    "# Vector analysis"
   ]
  },
  {
   "cell_type": "markdown",
   "metadata": {},
   "source": [
    "analyzing wind vectors. code by Noel Wang, based on other stuff in AK_polynya environment"
   ]
  },
  {
   "cell_type": "markdown",
   "metadata": {},
   "source": [
    "## importing packages"
   ]
  },
  {
   "cell_type": "code",
   "execution_count": 1,
   "metadata": {},
   "outputs": [],
   "source": [
    "# general\n",
    "import numpy as np, numpy.ma as ma\n",
    "import xarray as xr\n",
    "import pandas as pd\n",
    "\n",
    "# time\n",
    "from datetime import datetime, timedelta\n",
    "import matplotlib.dates as mdates\n",
    "\n",
    "# local system \n",
    "import sys  \n",
    "import glob\n",
    "import os\n",
    "\n",
    "# plotting\n",
    "import matplotlib as mpl\n",
    "from matplotlib import pyplot as plt\n",
    "import matplotlib.colors\n",
    "import cmocean\n",
    "from matplotlib import colors as mcolors\n",
    "\n",
    "# geo plotting\n",
    "import cartopy\n",
    "import cartopy.crs as ccrs\n",
    "import cartopy.feature as cfeat\n",
    "\n",
    "# for use in suppressing repeated warnings when mapping w/ shapely\n",
    "import shapely\n",
    "import warnings\n",
    "from shapely.errors import ShapelyDeprecationWarning\n",
    "warnings.filterwarnings(\"ignore\", category=ShapelyDeprecationWarning) \n",
    "\n",
    "# path to own functions\n",
    "sys.path.append('../Libraries_functions/')\n",
    "from LIB_ASI_SIC_UniB import grab_ASI_SIC, grab_projinfo_SIC\n",
    "from LIB_geo_func import *\n",
    "from LIB_geo_plot import *\n",
    "\n",
    "\n",
    "# OSI SAF sea ice drift\n",
    "from LIB_OSI_SAF import grab_projinfo_OSISAF, grab_OSISAF_drift\n",
    "\n",
    "# NSIDC sea ice drift\n",
    "from LIB_PPdrift_NSIDC0116 import grab_projinfo_PPdrift\n",
    "\n",
    "# ERA5\n",
    "# from LIB_access_ERA5 import grab_ERA5\n",
    "\n",
    "%load_ext autoreload\n",
    "%autoreload 2\n",
    "# potentially uninstall pyhdf?\n",
    "\n",
    "# math\n",
    "import math"
   ]
  },
  {
   "cell_type": "markdown",
   "metadata": {},
   "source": [
    "## setting the date"
   ]
  },
  {
   "cell_type": "code",
   "execution_count": 10,
   "metadata": {},
   "outputs": [
    {
     "name": "stdout",
     "output_type": "stream",
     "text": [
      "32\n"
     ]
    }
   ],
   "source": [
    "date_list = pd.date_range(datetime(2024, 1, 1), datetime(2024, 2, 1), freq=\"D\")\n",
    "print(len(date_list))"
   ]
  },
  {
   "cell_type": "markdown",
   "metadata": {},
   "source": [
    "## determining The Vector"
   ]
  },
  {
   "cell_type": "code",
   "execution_count": 23,
   "metadata": {},
   "outputs": [
    {
     "data": {
      "text/plain": [
       "0     -3.112129\n",
       "1     -3.071589\n",
       "2     -3.027858\n",
       "3     -2.983468\n",
       "4     -2.948458\n",
       "         ...   \n",
       "716   -0.407079\n",
       "717   -0.521667\n",
       "718   -0.631970\n",
       "719   -0.753672\n",
       "720   -0.874589\n",
       "Name: v10_average_m_s, Length: 721, dtype: float64"
      ]
     },
     "execution_count": 23,
     "metadata": {},
     "output_type": "execute_result"
    }
   ],
   "source": [
    "df_hourly_wind.v10_average_m_s"
   ]
  },
  {
   "cell_type": "code",
   "execution_count": 22,
   "metadata": {},
   "outputs": [
    {
     "name": "stdout",
     "output_type": "stream",
     "text": [
      "The angle in iteration 0 is 0.5143117459623396, calculated by taking -3.112129 / -2.4496686\n",
      "The angle in iteration 1 is 0.4910773369414179, calculated by taking -3.071589 / -2.557752\n",
      "The angle in iteration 2 is 0.4704613867683923, calculated by taking -3.0278578 / -2.6608102\n",
      "The angle in iteration 3 is 0.45207937160270095, calculated by taking -2.9834683 / -2.7592154\n",
      "The angle in iteration 4 is 0.4357590685176494, calculated by taking -2.9484577 / -2.854354\n",
      "The angle in iteration 5 is 0.4203191556712843, calculated by taking -2.9181647 / -2.951701\n",
      "The angle in iteration 6 is 0.4052542739780477, calculated by taking -2.8890512 / -3.0538096\n",
      "The angle in iteration 7 is 0.3912101823130541, calculated by taking -2.8565102 / -3.1544487\n",
      "The angle in iteration 8 is 0.3783076921671404, calculated by taking -2.8194613 / -3.251217\n",
      "The angle in iteration 9 is 0.3668020994939341, calculated by taking -2.7819264 / -3.3416278\n",
      "The angle in iteration 10 is 0.3561677938901052, calculated by taking -2.7462277 / -3.4297998\n",
      "The angle in iteration 11 is 0.34480482912664456, calculated by taking -2.6964285 / -3.5256448\n",
      "The angle in iteration 12 is 0.33359587738249247, calculated by taking -2.6448562 / -3.6250966\n",
      "The angle in iteration 13 is 0.3225573602348928, calculated by taking -2.599471 / -3.7312877\n",
      "The angle in iteration 14 is 0.3120390856244722, calculated by taking -2.5585306 / -3.839914\n",
      "The angle in iteration 15 is 0.3011677024320899, calculated by taking -2.5160317 / -3.9595516\n",
      "The angle in iteration 16 is 0.2898873212557121, calculated by taking -2.464303 / -4.088847\n",
      "The angle in iteration 17 is 0.2780961247308965, calculated by taking -2.3965473 / -4.2269335\n",
      "The angle in iteration 18 is 0.2660034872948386, calculated by taking -2.3118114 / -4.370389\n",
      "The angle in iteration 19 is 0.2538958085384489, calculated by taking -2.2157414 / -4.517004\n",
      "The angle in iteration 20 is 0.24190326229967757, calculated by taking -2.114734 / -4.6675067\n",
      "The angle in iteration 21 is 0.23022345211686615, calculated by taking -2.0158184 / -4.8226733\n",
      "The angle in iteration 22 is 0.21897297595832094, calculated by taking -1.9242615 / -4.984766\n",
      "The angle in iteration 23 is 0.20890666134503352, calculated by taking -1.8502468 / -5.147277\n",
      "The angle in iteration 24 is 0.19911092630306448, calculated by taking -1.7830408 / -5.3220034\n",
      "The angle in iteration 25 is 0.18944640263694448, calculated by taking -1.7203401 / -5.5121393\n",
      "The angle in iteration 26 is 0.17955974723428755, calculated by taking -1.654951 / -5.72099\n",
      "The angle in iteration 27 is 0.16914233030484918, calculated by taking -1.5759192 / -5.943863\n",
      "The angle in iteration 28 is 0.15797834515468503, calculated by taking -1.475868 / -6.173536\n",
      "The angle in iteration 29 is 0.14628221475950906, calculated by taking -1.359074 / -6.4016566\n",
      "The angle in iteration 30 is 0.13428551137019198, calculated by taking -1.2337085 / -6.62504\n",
      "The angle in iteration 31 is 0.12201335844139878, calculated by taking -1.1053028 / -6.8465815\n",
      "[0.5143117459623396, 0.4910773369414179, 0.4704613867683923, 0.45207937160270095, 0.4357590685176494, 0.4203191556712843, 0.4052542739780477, 0.3912101823130541, 0.3783076921671404, 0.3668020994939341, 0.3561677938901052, 0.34480482912664456, 0.33359587738249247, 0.3225573602348928, 0.3120390856244722, 0.3011677024320899, 0.2898873212557121, 0.2780961247308965, 0.2660034872948386, 0.2538958085384489, 0.24190326229967757, 0.23022345211686615, 0.21897297595832094, 0.20890666134503352, 0.19911092630306448, 0.18944640263694448, 0.17955974723428755, 0.16914233030484918, 0.15797834515468503, 0.14628221475950906, 0.13428551137019198, 0.12201335844139878]\n"
     ]
    },
    {
     "name": "stderr",
     "output_type": "stream",
     "text": [
      "/var/folders/1y/8_442fb923bb526xtrg6y2p80000gr/T/ipykernel_11469/2898702865.py:8: UserWarning: Could not infer format, so each element will be parsed individually, falling back to `dateutil`. To ensure parsing is consistent and as-expected, please specify a format.\n",
      "  time_daily = pd.to_datetime(df_daily_size.time)\n"
     ]
    },
    {
     "data": {
      "text/plain": [
       "0.9039486895774814"
      ]
     },
     "execution_count": 22,
     "metadata": {},
     "output_type": "execute_result"
    }
   ],
   "source": [
    "\n",
    "\n",
    "# importing the CSV files\n",
    "\n",
    "#read in the data files\n",
    "df_hourly_wind = pd.read_csv(\"/Users/reu/Box/Data/2024hourly_wind.csv\")\n",
    "df_daily_size = pd.read_csv(\"/Users/reu/Box/Data/2024SIC.csv\")\n",
    "\n",
    "#converting the times to the correct format\n",
    "time_daily = pd.to_datetime(df_daily_size.time)\n",
    "time_hourly = pd.to_datetime(df_hourly_wind.time)\n",
    "\n",
    "#initialize an empty list\n",
    "angles_list = []\n",
    "\n",
    "#calculate the angle with trigonometry\n",
    "\n",
    "i = 0\n",
    "while i < len(date_list):\n",
    "    angle = (math.atan(df_hourly_wind.v10_average_m_s[i]) / (df_hourly_wind.u10_average_m_s[i]))\n",
    "    print(f'The angle in iteration {i} is {angle}, calculated by taking {df_hourly_wind.v10_average_m_s[i]} / {(df_hourly_wind.u10_average_m_s[i])}')\n",
    "    angles_list.append(angle)\n",
    "    i +=1\n",
    "print(angles_list)\n",
    "\n",
    "math.atan(df_hourly_wind.v10_average_m_s[0] / df_hourly_wind.u10_average_m_s[0])"
   ]
  },
  {
   "cell_type": "code",
   "execution_count": null,
   "metadata": {},
   "outputs": [],
   "source": []
  },
  {
   "cell_type": "markdown",
   "metadata": {},
   "source": [
    "## time series of projections on The Vector"
   ]
  },
  {
   "cell_type": "markdown",
   "metadata": {},
   "source": []
  }
 ],
 "metadata": {
  "kernelspec": {
   "display_name": "AK_polynya",
   "language": "python",
   "name": "python3"
  },
  "language_info": {
   "codemirror_mode": {
    "name": "ipython",
    "version": 3
   },
   "file_extension": ".py",
   "mimetype": "text/x-python",
   "name": "python",
   "nbconvert_exporter": "python",
   "pygments_lexer": "ipython3",
   "version": "3.12.2"
  }
 },
 "nbformat": 4,
 "nbformat_minor": 2
}
